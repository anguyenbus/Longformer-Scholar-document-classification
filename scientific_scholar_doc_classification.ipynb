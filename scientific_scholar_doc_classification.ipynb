{
  "nbformat": 4,
  "nbformat_minor": 0,
  "metadata": {
    "accelerator": "GPU",
    "colab": {
      "name": "group9_ass2_model.ipynb",
      "provenance": [],
      "collapsed_sections": [],
      "toc_visible": true
    },
    "kernelspec": {
      "display_name": "Python 3",
      "language": "python",
      "name": "python3"
    },
    "language_info": {
      "codemirror_mode": {
        "name": "ipython",
        "version": 3
      },
      "file_extension": ".py",
      "mimetype": "text/x-python",
      "name": "python",
      "nbconvert_exporter": "python",
      "pygments_lexer": "ipython3",
      "version": "3.7.7"
    },
    "widgets": {
      "application/vnd.jupyter.widget-state+json": {
        "4a18d28e32bb4630b719d92f1177b11e": {
          "model_module": "@jupyter-widgets/controls",
          "model_name": "HBoxModel",
          "state": {
            "_view_name": "HBoxView",
            "_dom_classes": [],
            "_model_name": "HBoxModel",
            "_view_module": "@jupyter-widgets/controls",
            "_model_module_version": "1.5.0",
            "_view_count": null,
            "_view_module_version": "1.5.0",
            "box_style": "",
            "layout": "IPY_MODEL_bcab7d236a71478b933a30ba4cf531e7",
            "_model_module": "@jupyter-widgets/controls",
            "children": [
              "IPY_MODEL_86727f3c31fc40eab0ed1f2414ae0856",
              "IPY_MODEL_d59c57fc1c6f4c97ad81351d38f68b05"
            ]
          }
        },
        "bcab7d236a71478b933a30ba4cf531e7": {
          "model_module": "@jupyter-widgets/base",
          "model_name": "LayoutModel",
          "state": {
            "_view_name": "LayoutView",
            "grid_template_rows": null,
            "right": null,
            "justify_content": null,
            "_view_module": "@jupyter-widgets/base",
            "overflow": null,
            "_model_module_version": "1.2.0",
            "_view_count": null,
            "flex_flow": null,
            "width": null,
            "min_width": null,
            "border": null,
            "align_items": null,
            "bottom": null,
            "_model_module": "@jupyter-widgets/base",
            "top": null,
            "grid_column": null,
            "overflow_y": null,
            "overflow_x": null,
            "grid_auto_flow": null,
            "grid_area": null,
            "grid_template_columns": null,
            "flex": null,
            "_model_name": "LayoutModel",
            "justify_items": null,
            "grid_row": null,
            "max_height": null,
            "align_content": null,
            "visibility": null,
            "align_self": null,
            "height": null,
            "min_height": null,
            "padding": null,
            "grid_auto_rows": null,
            "grid_gap": null,
            "max_width": null,
            "order": null,
            "_view_module_version": "1.2.0",
            "grid_template_areas": null,
            "object_position": null,
            "object_fit": null,
            "grid_auto_columns": null,
            "margin": null,
            "display": null,
            "left": null
          }
        },
        "86727f3c31fc40eab0ed1f2414ae0856": {
          "model_module": "@jupyter-widgets/controls",
          "model_name": "FloatProgressModel",
          "state": {
            "_view_name": "ProgressView",
            "style": "IPY_MODEL_a4f08c3662844f5586796465d743d160",
            "_dom_classes": [],
            "description": "Downloading: 100%",
            "_model_name": "FloatProgressModel",
            "bar_style": "success",
            "max": 803,
            "_view_module": "@jupyter-widgets/controls",
            "_model_module_version": "1.5.0",
            "value": 803,
            "_view_count": null,
            "_view_module_version": "1.5.0",
            "orientation": "horizontal",
            "min": 0,
            "description_tooltip": null,
            "_model_module": "@jupyter-widgets/controls",
            "layout": "IPY_MODEL_45f164357f9b44c58e37e7c2eb834818"
          }
        },
        "d59c57fc1c6f4c97ad81351d38f68b05": {
          "model_module": "@jupyter-widgets/controls",
          "model_name": "HTMLModel",
          "state": {
            "_view_name": "HTMLView",
            "style": "IPY_MODEL_09d1eddfaf1a46d0983d91bdb9a425ee",
            "_dom_classes": [],
            "description": "",
            "_model_name": "HTMLModel",
            "placeholder": "​",
            "_view_module": "@jupyter-widgets/controls",
            "_model_module_version": "1.5.0",
            "value": " 803/803 [00:00&lt;00:00, 4.42kB/s]",
            "_view_count": null,
            "_view_module_version": "1.5.0",
            "description_tooltip": null,
            "_model_module": "@jupyter-widgets/controls",
            "layout": "IPY_MODEL_f0eb887ee3c24ca8bd5cf9de9ab20d09"
          }
        },
        "a4f08c3662844f5586796465d743d160": {
          "model_module": "@jupyter-widgets/controls",
          "model_name": "ProgressStyleModel",
          "state": {
            "_view_name": "StyleView",
            "_model_name": "ProgressStyleModel",
            "description_width": "initial",
            "_view_module": "@jupyter-widgets/base",
            "_model_module_version": "1.5.0",
            "_view_count": null,
            "_view_module_version": "1.2.0",
            "bar_color": null,
            "_model_module": "@jupyter-widgets/controls"
          }
        },
        "45f164357f9b44c58e37e7c2eb834818": {
          "model_module": "@jupyter-widgets/base",
          "model_name": "LayoutModel",
          "state": {
            "_view_name": "LayoutView",
            "grid_template_rows": null,
            "right": null,
            "justify_content": null,
            "_view_module": "@jupyter-widgets/base",
            "overflow": null,
            "_model_module_version": "1.2.0",
            "_view_count": null,
            "flex_flow": null,
            "width": null,
            "min_width": null,
            "border": null,
            "align_items": null,
            "bottom": null,
            "_model_module": "@jupyter-widgets/base",
            "top": null,
            "grid_column": null,
            "overflow_y": null,
            "overflow_x": null,
            "grid_auto_flow": null,
            "grid_area": null,
            "grid_template_columns": null,
            "flex": null,
            "_model_name": "LayoutModel",
            "justify_items": null,
            "grid_row": null,
            "max_height": null,
            "align_content": null,
            "visibility": null,
            "align_self": null,
            "height": null,
            "min_height": null,
            "padding": null,
            "grid_auto_rows": null,
            "grid_gap": null,
            "max_width": null,
            "order": null,
            "_view_module_version": "1.2.0",
            "grid_template_areas": null,
            "object_position": null,
            "object_fit": null,
            "grid_auto_columns": null,
            "margin": null,
            "display": null,
            "left": null
          }
        },
        "09d1eddfaf1a46d0983d91bdb9a425ee": {
          "model_module": "@jupyter-widgets/controls",
          "model_name": "DescriptionStyleModel",
          "state": {
            "_view_name": "StyleView",
            "_model_name": "DescriptionStyleModel",
            "description_width": "",
            "_view_module": "@jupyter-widgets/base",
            "_model_module_version": "1.5.0",
            "_view_count": null,
            "_view_module_version": "1.2.0",
            "_model_module": "@jupyter-widgets/controls"
          }
        },
        "f0eb887ee3c24ca8bd5cf9de9ab20d09": {
          "model_module": "@jupyter-widgets/base",
          "model_name": "LayoutModel",
          "state": {
            "_view_name": "LayoutView",
            "grid_template_rows": null,
            "right": null,
            "justify_content": null,
            "_view_module": "@jupyter-widgets/base",
            "overflow": null,
            "_model_module_version": "1.2.0",
            "_view_count": null,
            "flex_flow": null,
            "width": null,
            "min_width": null,
            "border": null,
            "align_items": null,
            "bottom": null,
            "_model_module": "@jupyter-widgets/base",
            "top": null,
            "grid_column": null,
            "overflow_y": null,
            "overflow_x": null,
            "grid_auto_flow": null,
            "grid_area": null,
            "grid_template_columns": null,
            "flex": null,
            "_model_name": "LayoutModel",
            "justify_items": null,
            "grid_row": null,
            "max_height": null,
            "align_content": null,
            "visibility": null,
            "align_self": null,
            "height": null,
            "min_height": null,
            "padding": null,
            "grid_auto_rows": null,
            "grid_gap": null,
            "max_width": null,
            "order": null,
            "_view_module_version": "1.2.0",
            "grid_template_areas": null,
            "object_position": null,
            "object_fit": null,
            "grid_auto_columns": null,
            "margin": null,
            "display": null,
            "left": null
          }
        },
        "56bae4d95c8943378f9fcb4df11039b4": {
          "model_module": "@jupyter-widgets/controls",
          "model_name": "HBoxModel",
          "state": {
            "_view_name": "HBoxView",
            "_dom_classes": [],
            "_model_name": "HBoxModel",
            "_view_module": "@jupyter-widgets/controls",
            "_model_module_version": "1.5.0",
            "_view_count": null,
            "_view_module_version": "1.5.0",
            "box_style": "",
            "layout": "IPY_MODEL_34cd6ad6c7cb4651a03509c3f39a0a9c",
            "_model_module": "@jupyter-widgets/controls",
            "children": [
              "IPY_MODEL_7acb0445847f42bdaf1270925839c21f",
              "IPY_MODEL_d95327a456f84cc3a8f81180d23916fc"
            ]
          }
        },
        "34cd6ad6c7cb4651a03509c3f39a0a9c": {
          "model_module": "@jupyter-widgets/base",
          "model_name": "LayoutModel",
          "state": {
            "_view_name": "LayoutView",
            "grid_template_rows": null,
            "right": null,
            "justify_content": null,
            "_view_module": "@jupyter-widgets/base",
            "overflow": null,
            "_model_module_version": "1.2.0",
            "_view_count": null,
            "flex_flow": null,
            "width": null,
            "min_width": null,
            "border": null,
            "align_items": null,
            "bottom": null,
            "_model_module": "@jupyter-widgets/base",
            "top": null,
            "grid_column": null,
            "overflow_y": null,
            "overflow_x": null,
            "grid_auto_flow": null,
            "grid_area": null,
            "grid_template_columns": null,
            "flex": null,
            "_model_name": "LayoutModel",
            "justify_items": null,
            "grid_row": null,
            "max_height": null,
            "align_content": null,
            "visibility": null,
            "align_self": null,
            "height": null,
            "min_height": null,
            "padding": null,
            "grid_auto_rows": null,
            "grid_gap": null,
            "max_width": null,
            "order": null,
            "_view_module_version": "1.2.0",
            "grid_template_areas": null,
            "object_position": null,
            "object_fit": null,
            "grid_auto_columns": null,
            "margin": null,
            "display": null,
            "left": null
          }
        },
        "7acb0445847f42bdaf1270925839c21f": {
          "model_module": "@jupyter-widgets/controls",
          "model_name": "FloatProgressModel",
          "state": {
            "_view_name": "ProgressView",
            "style": "IPY_MODEL_2a18a0f2a4aa42bb97193ac01a6f77cf",
            "_dom_classes": [],
            "description": "Downloading: 100%",
            "_model_name": "FloatProgressModel",
            "bar_style": "success",
            "max": 1742910431,
            "_view_module": "@jupyter-widgets/controls",
            "_model_module_version": "1.5.0",
            "value": 1742910431,
            "_view_count": null,
            "_view_module_version": "1.5.0",
            "orientation": "horizontal",
            "min": 0,
            "description_tooltip": null,
            "_model_module": "@jupyter-widgets/controls",
            "layout": "IPY_MODEL_bf9e0c232f1f48e081563f5212989942"
          }
        },
        "d95327a456f84cc3a8f81180d23916fc": {
          "model_module": "@jupyter-widgets/controls",
          "model_name": "HTMLModel",
          "state": {
            "_view_name": "HTMLView",
            "style": "IPY_MODEL_4c79c8c9b02b4748ad5845a62b1f0e6e",
            "_dom_classes": [],
            "description": "",
            "_model_name": "HTMLModel",
            "placeholder": "​",
            "_view_module": "@jupyter-widgets/controls",
            "_model_module_version": "1.5.0",
            "value": " 1.74G/1.74G [00:33&lt;00:00, 52.8MB/s]",
            "_view_count": null,
            "_view_module_version": "1.5.0",
            "description_tooltip": null,
            "_model_module": "@jupyter-widgets/controls",
            "layout": "IPY_MODEL_40197a6c3e60477eb68303f43ad9b4d2"
          }
        },
        "2a18a0f2a4aa42bb97193ac01a6f77cf": {
          "model_module": "@jupyter-widgets/controls",
          "model_name": "ProgressStyleModel",
          "state": {
            "_view_name": "StyleView",
            "_model_name": "ProgressStyleModel",
            "description_width": "initial",
            "_view_module": "@jupyter-widgets/base",
            "_model_module_version": "1.5.0",
            "_view_count": null,
            "_view_module_version": "1.2.0",
            "bar_color": null,
            "_model_module": "@jupyter-widgets/controls"
          }
        },
        "bf9e0c232f1f48e081563f5212989942": {
          "model_module": "@jupyter-widgets/base",
          "model_name": "LayoutModel",
          "state": {
            "_view_name": "LayoutView",
            "grid_template_rows": null,
            "right": null,
            "justify_content": null,
            "_view_module": "@jupyter-widgets/base",
            "overflow": null,
            "_model_module_version": "1.2.0",
            "_view_count": null,
            "flex_flow": null,
            "width": null,
            "min_width": null,
            "border": null,
            "align_items": null,
            "bottom": null,
            "_model_module": "@jupyter-widgets/base",
            "top": null,
            "grid_column": null,
            "overflow_y": null,
            "overflow_x": null,
            "grid_auto_flow": null,
            "grid_area": null,
            "grid_template_columns": null,
            "flex": null,
            "_model_name": "LayoutModel",
            "justify_items": null,
            "grid_row": null,
            "max_height": null,
            "align_content": null,
            "visibility": null,
            "align_self": null,
            "height": null,
            "min_height": null,
            "padding": null,
            "grid_auto_rows": null,
            "grid_gap": null,
            "max_width": null,
            "order": null,
            "_view_module_version": "1.2.0",
            "grid_template_areas": null,
            "object_position": null,
            "object_fit": null,
            "grid_auto_columns": null,
            "margin": null,
            "display": null,
            "left": null
          }
        },
        "4c79c8c9b02b4748ad5845a62b1f0e6e": {
          "model_module": "@jupyter-widgets/controls",
          "model_name": "DescriptionStyleModel",
          "state": {
            "_view_name": "StyleView",
            "_model_name": "DescriptionStyleModel",
            "description_width": "",
            "_view_module": "@jupyter-widgets/base",
            "_model_module_version": "1.5.0",
            "_view_count": null,
            "_view_module_version": "1.2.0",
            "_model_module": "@jupyter-widgets/controls"
          }
        },
        "40197a6c3e60477eb68303f43ad9b4d2": {
          "model_module": "@jupyter-widgets/base",
          "model_name": "LayoutModel",
          "state": {
            "_view_name": "LayoutView",
            "grid_template_rows": null,
            "right": null,
            "justify_content": null,
            "_view_module": "@jupyter-widgets/base",
            "overflow": null,
            "_model_module_version": "1.2.0",
            "_view_count": null,
            "flex_flow": null,
            "width": null,
            "min_width": null,
            "border": null,
            "align_items": null,
            "bottom": null,
            "_model_module": "@jupyter-widgets/base",
            "top": null,
            "grid_column": null,
            "overflow_y": null,
            "overflow_x": null,
            "grid_auto_flow": null,
            "grid_area": null,
            "grid_template_columns": null,
            "flex": null,
            "_model_name": "LayoutModel",
            "justify_items": null,
            "grid_row": null,
            "max_height": null,
            "align_content": null,
            "visibility": null,
            "align_self": null,
            "height": null,
            "min_height": null,
            "padding": null,
            "grid_auto_rows": null,
            "grid_gap": null,
            "max_width": null,
            "order": null,
            "_view_module_version": "1.2.0",
            "grid_template_areas": null,
            "object_position": null,
            "object_fit": null,
            "grid_auto_columns": null,
            "margin": null,
            "display": null,
            "left": null
          }
        }
      }
    }
  },
  "cells": [
    {
      "cell_type": "markdown",
      "metadata": {
        "id": "YtDM6tpMPdRi"
      },
      "source": [
        "# Scientific Document Classification\n",
        "\n",
        "Programming Language: Python 3.7.6 Jupyter Notebook\n",
        "\n",
        "Libraries used:\n",
        "* Fastai 1.0.61\n",
        "* pytorch-transformers\n",
        "* transformers - version 3.4.0\n",
        "* tensorflow - version 2.3.0\n",
        "* gc\n",
        "* datetime\n",
        "* urllib3 - version 1.25.10\n",
        "* gensim"
      ]
    },
    {
      "cell_type": "markdown",
      "metadata": {
        "id": "dlMbAQU0PqAG"
      },
      "source": [
        "## Table of Contents\n",
        "\n",
        "1. [Introduction](#sec_1)\n",
        "2. [Installation and Transformers](#sec_2)\n",
        "3. [Parameters Setting](#sec_3)\n",
        "4. [Customise LongformerTokenizer](#sec_4)\n",
        "5. [Data Preparation](#sec_5)\n",
        "6. [Customise Longformer Model](#sec_6)\n",
        "7. [Prediction](#sec_7)\n",
        "8. [Conclusion](#sec_8)\n",
        "9. [References](#sec_9)"
      ]
    },
    {
      "cell_type": "markdown",
      "metadata": {
        "id": "4XlMnvSgPy2b"
      },
      "source": [
        ""
      ]
    },
    {
      "cell_type": "markdown",
      "metadata": {
        "id": "l184cGWxQov8"
      },
      "source": [
        "# 1. Introduction <a class=\"anchor\" id=\"sec_1\"></a>\n",
        "\n",
        "The dataset for the problem contained abstracts taken from arXiv which is an open access repository for pre-printed English language research publications. The problem at hand is to build a classifier that can most accurately classify a paper into one of the 100 possible categories using the text from the abstract. The training dataset contains labelled abstracts from 29,368 publications. Therefore, the problem can be considered as a supervised learning problem. This report details the efforts taken by the team in identifying suitable models to build the classifier, evaluation of the said models and the final model selected.\n",
        "\n",
        "After a series of experiments, the Longformer (Transformer) produces the highest accuracy rate at 60.458% (30% of the testing dataset) The coressponding codes from pre-processing steps, model development, and evaluation are shown in this notebook. The following tasks will be carried.\n",
        "\n",
        "* **Pre-processing**: Training and test data are parsed and read into pandas dataframe. The relevant pre-processing procedures such as removing unmeaningful tags, case normalization, tokenization and stopwords removal are performed with NLP libraries. \n",
        "\n",
        "* **Model development**: Longoformer model was built based on keras and having tensorflow as a back-end. The pretrained model is longformer-large. \n",
        "\n",
        "* **Model evaluation**: To immediately evaluate model accuracy, a saved model can be loaded from pkl to make prediction. The accuracy score is then computed with fastai metrics\n",
        "\n",
        "###NOTE: Please do not run all cells at once. Details is provided in SECTION 6 and SECTION 7."
      ]
    },
    {
      "cell_type": "markdown",
      "metadata": {
        "id": "XjrLQaXkqjOG"
      },
      "source": [
        "# 2. Libraries Installation and Transformers\n",
        "## 2.1 Installation"
      ]
    },
    {
      "cell_type": "code",
      "metadata": {
        "id": "5nC2uglCeY6W",
        "colab": {
          "base_uri": "https://localhost:8080/"
        },
        "outputId": "c05e9242-271a-40bb-d763-c9a63460573f"
      },
      "source": [
        "!pip install transformers==3.4.0\n",
        "!pip install pytorch-transformers\n",
        "!pip install tensorflow==2.3.0\n",
        "!pip install urllib3==1.25.10"
      ],
      "execution_count": null,
      "outputs": [
        {
          "output_type": "stream",
          "text": [
            "Requirement already satisfied: transformers==3.4.0 in /usr/local/lib/python3.6/dist-packages (3.4.0)\n",
            "Requirement already satisfied: filelock in /usr/local/lib/python3.6/dist-packages (from transformers==3.4.0) (3.0.12)\n",
            "Requirement already satisfied: numpy in /usr/local/lib/python3.6/dist-packages (from transformers==3.4.0) (1.18.5)\n",
            "Requirement already satisfied: regex!=2019.12.17 in /usr/local/lib/python3.6/dist-packages (from transformers==3.4.0) (2019.12.20)\n",
            "Requirement already satisfied: sacremoses in /usr/local/lib/python3.6/dist-packages (from transformers==3.4.0) (0.0.43)\n",
            "Requirement already satisfied: tqdm>=4.27 in /usr/local/lib/python3.6/dist-packages (from transformers==3.4.0) (4.41.1)\n",
            "Requirement already satisfied: requests in /usr/local/lib/python3.6/dist-packages (from transformers==3.4.0) (2.23.0)\n",
            "Requirement already satisfied: sentencepiece!=0.1.92 in /usr/local/lib/python3.6/dist-packages (from transformers==3.4.0) (0.1.94)\n",
            "Requirement already satisfied: dataclasses; python_version < \"3.7\" in /usr/local/lib/python3.6/dist-packages (from transformers==3.4.0) (0.7)\n",
            "Requirement already satisfied: protobuf in /usr/local/lib/python3.6/dist-packages (from transformers==3.4.0) (3.12.4)\n",
            "Requirement already satisfied: packaging in /usr/local/lib/python3.6/dist-packages (from transformers==3.4.0) (20.4)\n",
            "Requirement already satisfied: tokenizers==0.9.2 in /usr/local/lib/python3.6/dist-packages (from transformers==3.4.0) (0.9.2)\n",
            "Requirement already satisfied: joblib in /usr/local/lib/python3.6/dist-packages (from sacremoses->transformers==3.4.0) (0.17.0)\n",
            "Requirement already satisfied: click in /usr/local/lib/python3.6/dist-packages (from sacremoses->transformers==3.4.0) (7.1.2)\n",
            "Requirement already satisfied: six in /usr/local/lib/python3.6/dist-packages (from sacremoses->transformers==3.4.0) (1.15.0)\n",
            "Requirement already satisfied: urllib3!=1.25.0,!=1.25.1,<1.26,>=1.21.1 in /usr/local/lib/python3.6/dist-packages (from requests->transformers==3.4.0) (1.25.10)\n",
            "Requirement already satisfied: certifi>=2017.4.17 in /usr/local/lib/python3.6/dist-packages (from requests->transformers==3.4.0) (2020.6.20)\n",
            "Requirement already satisfied: chardet<4,>=3.0.2 in /usr/local/lib/python3.6/dist-packages (from requests->transformers==3.4.0) (3.0.4)\n",
            "Requirement already satisfied: idna<3,>=2.5 in /usr/local/lib/python3.6/dist-packages (from requests->transformers==3.4.0) (2.10)\n",
            "Requirement already satisfied: setuptools in /usr/local/lib/python3.6/dist-packages (from protobuf->transformers==3.4.0) (50.3.2)\n",
            "Requirement already satisfied: pyparsing>=2.0.2 in /usr/local/lib/python3.6/dist-packages (from packaging->transformers==3.4.0) (2.4.7)\n",
            "Requirement already satisfied: pytorch-transformers in /usr/local/lib/python3.6/dist-packages (1.2.0)\n",
            "Requirement already satisfied: regex in /usr/local/lib/python3.6/dist-packages (from pytorch-transformers) (2019.12.20)\n",
            "Requirement already satisfied: torch>=1.0.0 in /usr/local/lib/python3.6/dist-packages (from pytorch-transformers) (1.7.0+cu101)\n",
            "Requirement already satisfied: sacremoses in /usr/local/lib/python3.6/dist-packages (from pytorch-transformers) (0.0.43)\n",
            "Requirement already satisfied: boto3 in /usr/local/lib/python3.6/dist-packages (from pytorch-transformers) (1.16.12)\n",
            "Requirement already satisfied: requests in /usr/local/lib/python3.6/dist-packages (from pytorch-transformers) (2.23.0)\n",
            "Requirement already satisfied: sentencepiece in /usr/local/lib/python3.6/dist-packages (from pytorch-transformers) (0.1.94)\n",
            "Requirement already satisfied: tqdm in /usr/local/lib/python3.6/dist-packages (from pytorch-transformers) (4.41.1)\n",
            "Requirement already satisfied: numpy in /usr/local/lib/python3.6/dist-packages (from pytorch-transformers) (1.18.5)\n",
            "Requirement already satisfied: dataclasses in /usr/local/lib/python3.6/dist-packages (from torch>=1.0.0->pytorch-transformers) (0.7)\n",
            "Requirement already satisfied: typing-extensions in /usr/local/lib/python3.6/dist-packages (from torch>=1.0.0->pytorch-transformers) (3.7.4.3)\n",
            "Requirement already satisfied: future in /usr/local/lib/python3.6/dist-packages (from torch>=1.0.0->pytorch-transformers) (0.16.0)\n",
            "Requirement already satisfied: six in /usr/local/lib/python3.6/dist-packages (from sacremoses->pytorch-transformers) (1.15.0)\n",
            "Requirement already satisfied: click in /usr/local/lib/python3.6/dist-packages (from sacremoses->pytorch-transformers) (7.1.2)\n",
            "Requirement already satisfied: joblib in /usr/local/lib/python3.6/dist-packages (from sacremoses->pytorch-transformers) (0.17.0)\n",
            "Requirement already satisfied: s3transfer<0.4.0,>=0.3.0 in /usr/local/lib/python3.6/dist-packages (from boto3->pytorch-transformers) (0.3.3)\n",
            "Requirement already satisfied: botocore<1.20.0,>=1.19.12 in /usr/local/lib/python3.6/dist-packages (from boto3->pytorch-transformers) (1.19.12)\n",
            "Requirement already satisfied: jmespath<1.0.0,>=0.7.1 in /usr/local/lib/python3.6/dist-packages (from boto3->pytorch-transformers) (0.10.0)\n",
            "Requirement already satisfied: chardet<4,>=3.0.2 in /usr/local/lib/python3.6/dist-packages (from requests->pytorch-transformers) (3.0.4)\n",
            "Requirement already satisfied: urllib3!=1.25.0,!=1.25.1,<1.26,>=1.21.1 in /usr/local/lib/python3.6/dist-packages (from requests->pytorch-transformers) (1.25.10)\n",
            "Requirement already satisfied: certifi>=2017.4.17 in /usr/local/lib/python3.6/dist-packages (from requests->pytorch-transformers) (2020.6.20)\n",
            "Requirement already satisfied: idna<3,>=2.5 in /usr/local/lib/python3.6/dist-packages (from requests->pytorch-transformers) (2.10)\n",
            "Requirement already satisfied: python-dateutil<3.0.0,>=2.1 in /usr/local/lib/python3.6/dist-packages (from botocore<1.20.0,>=1.19.12->boto3->pytorch-transformers) (2.8.1)\n",
            "Requirement already satisfied: tensorflow==2.3.0 in /usr/local/lib/python3.6/dist-packages (2.3.0)\n",
            "Requirement already satisfied: six>=1.12.0 in /usr/local/lib/python3.6/dist-packages (from tensorflow==2.3.0) (1.15.0)\n",
            "Requirement already satisfied: absl-py>=0.7.0 in /usr/local/lib/python3.6/dist-packages (from tensorflow==2.3.0) (0.10.0)\n",
            "Requirement already satisfied: tensorflow-estimator<2.4.0,>=2.3.0 in /usr/local/lib/python3.6/dist-packages (from tensorflow==2.3.0) (2.3.0)\n",
            "Requirement already satisfied: keras-preprocessing<1.2,>=1.1.1 in /usr/local/lib/python3.6/dist-packages (from tensorflow==2.3.0) (1.1.2)\n",
            "Requirement already satisfied: astunparse==1.6.3 in /usr/local/lib/python3.6/dist-packages (from tensorflow==2.3.0) (1.6.3)\n",
            "Requirement already satisfied: termcolor>=1.1.0 in /usr/local/lib/python3.6/dist-packages (from tensorflow==2.3.0) (1.1.0)\n",
            "Requirement already satisfied: wrapt>=1.11.1 in /usr/local/lib/python3.6/dist-packages (from tensorflow==2.3.0) (1.12.1)\n",
            "Requirement already satisfied: scipy==1.4.1 in /usr/local/lib/python3.6/dist-packages (from tensorflow==2.3.0) (1.4.1)\n",
            "Requirement already satisfied: grpcio>=1.8.6 in /usr/local/lib/python3.6/dist-packages (from tensorflow==2.3.0) (1.33.2)\n",
            "Requirement already satisfied: google-pasta>=0.1.8 in /usr/local/lib/python3.6/dist-packages (from tensorflow==2.3.0) (0.2.0)\n",
            "Requirement already satisfied: protobuf>=3.9.2 in /usr/local/lib/python3.6/dist-packages (from tensorflow==2.3.0) (3.12.4)\n",
            "Requirement already satisfied: tensorboard<3,>=2.3.0 in /usr/local/lib/python3.6/dist-packages (from tensorflow==2.3.0) (2.3.0)\n",
            "Requirement already satisfied: h5py<2.11.0,>=2.10.0 in /usr/local/lib/python3.6/dist-packages (from tensorflow==2.3.0) (2.10.0)\n",
            "Requirement already satisfied: opt-einsum>=2.3.2 in /usr/local/lib/python3.6/dist-packages (from tensorflow==2.3.0) (3.3.0)\n",
            "Requirement already satisfied: gast==0.3.3 in /usr/local/lib/python3.6/dist-packages (from tensorflow==2.3.0) (0.3.3)\n",
            "Requirement already satisfied: wheel>=0.26 in /usr/local/lib/python3.6/dist-packages (from tensorflow==2.3.0) (0.35.1)\n",
            "Requirement already satisfied: numpy<1.19.0,>=1.16.0 in /usr/local/lib/python3.6/dist-packages (from tensorflow==2.3.0) (1.18.5)\n",
            "Requirement already satisfied: setuptools in /usr/local/lib/python3.6/dist-packages (from protobuf>=3.9.2->tensorflow==2.3.0) (50.3.2)\n",
            "Requirement already satisfied: markdown>=2.6.8 in /usr/local/lib/python3.6/dist-packages (from tensorboard<3,>=2.3.0->tensorflow==2.3.0) (3.3.3)\n",
            "Requirement already satisfied: tensorboard-plugin-wit>=1.6.0 in /usr/local/lib/python3.6/dist-packages (from tensorboard<3,>=2.3.0->tensorflow==2.3.0) (1.7.0)\n",
            "Requirement already satisfied: requests<3,>=2.21.0 in /usr/local/lib/python3.6/dist-packages (from tensorboard<3,>=2.3.0->tensorflow==2.3.0) (2.23.0)\n",
            "Requirement already satisfied: google-auth-oauthlib<0.5,>=0.4.1 in /usr/local/lib/python3.6/dist-packages (from tensorboard<3,>=2.3.0->tensorflow==2.3.0) (0.4.2)\n",
            "Requirement already satisfied: werkzeug>=0.11.15 in /usr/local/lib/python3.6/dist-packages (from tensorboard<3,>=2.3.0->tensorflow==2.3.0) (1.0.1)\n",
            "Requirement already satisfied: google-auth<2,>=1.6.3 in /usr/local/lib/python3.6/dist-packages (from tensorboard<3,>=2.3.0->tensorflow==2.3.0) (1.17.2)\n",
            "Requirement already satisfied: importlib-metadata; python_version < \"3.8\" in /usr/local/lib/python3.6/dist-packages (from markdown>=2.6.8->tensorboard<3,>=2.3.0->tensorflow==2.3.0) (2.0.0)\n",
            "Requirement already satisfied: chardet<4,>=3.0.2 in /usr/local/lib/python3.6/dist-packages (from requests<3,>=2.21.0->tensorboard<3,>=2.3.0->tensorflow==2.3.0) (3.0.4)\n",
            "Requirement already satisfied: certifi>=2017.4.17 in /usr/local/lib/python3.6/dist-packages (from requests<3,>=2.21.0->tensorboard<3,>=2.3.0->tensorflow==2.3.0) (2020.6.20)\n",
            "Requirement already satisfied: idna<3,>=2.5 in /usr/local/lib/python3.6/dist-packages (from requests<3,>=2.21.0->tensorboard<3,>=2.3.0->tensorflow==2.3.0) (2.10)\n",
            "Requirement already satisfied: urllib3!=1.25.0,!=1.25.1,<1.26,>=1.21.1 in /usr/local/lib/python3.6/dist-packages (from requests<3,>=2.21.0->tensorboard<3,>=2.3.0->tensorflow==2.3.0) (1.25.10)\n",
            "Requirement already satisfied: requests-oauthlib>=0.7.0 in /usr/local/lib/python3.6/dist-packages (from google-auth-oauthlib<0.5,>=0.4.1->tensorboard<3,>=2.3.0->tensorflow==2.3.0) (1.3.0)\n",
            "Requirement already satisfied: pyasn1-modules>=0.2.1 in /usr/local/lib/python3.6/dist-packages (from google-auth<2,>=1.6.3->tensorboard<3,>=2.3.0->tensorflow==2.3.0) (0.2.8)\n",
            "Requirement already satisfied: rsa<5,>=3.1.4; python_version >= \"3\" in /usr/local/lib/python3.6/dist-packages (from google-auth<2,>=1.6.3->tensorboard<3,>=2.3.0->tensorflow==2.3.0) (4.6)\n",
            "Requirement already satisfied: cachetools<5.0,>=2.0.0 in /usr/local/lib/python3.6/dist-packages (from google-auth<2,>=1.6.3->tensorboard<3,>=2.3.0->tensorflow==2.3.0) (4.1.1)\n",
            "Requirement already satisfied: zipp>=0.5 in /usr/local/lib/python3.6/dist-packages (from importlib-metadata; python_version < \"3.8\"->markdown>=2.6.8->tensorboard<3,>=2.3.0->tensorflow==2.3.0) (3.4.0)\n",
            "Requirement already satisfied: oauthlib>=3.0.0 in /usr/local/lib/python3.6/dist-packages (from requests-oauthlib>=0.7.0->google-auth-oauthlib<0.5,>=0.4.1->tensorboard<3,>=2.3.0->tensorflow==2.3.0) (3.1.0)\n",
            "Requirement already satisfied: pyasn1<0.5.0,>=0.4.6 in /usr/local/lib/python3.6/dist-packages (from pyasn1-modules>=0.2.1->google-auth<2,>=1.6.3->tensorboard<3,>=2.3.0->tensorflow==2.3.0) (0.4.8)\n",
            "Requirement already satisfied: urllib3==1.25.10 in /usr/local/lib/python3.6/dist-packages (1.25.10)\n"
          ],
          "name": "stdout"
        }
      ]
    },
    {
      "cell_type": "code",
      "metadata": {
        "id": "4cw3BfrMsk6I",
        "colab": {
          "base_uri": "https://localhost:8080/"
        },
        "outputId": "25046ccc-b0e3-406d-9361-5bc7038f42f7"
      },
      "source": [
        "from google.colab import drive #link to google drive\n",
        "drive.mount('/content/drive') "
      ],
      "execution_count": null,
      "outputs": [
        {
          "output_type": "stream",
          "text": [
            "Drive already mounted at /content/drive; to attempt to forcibly remount, call drive.mount(\"/content/drive\", force_remount=True).\n"
          ],
          "name": "stdout"
        }
      ]
    },
    {
      "cell_type": "code",
      "metadata": {
        "id": "Y95jCZrbqMX4"
      },
      "source": [
        "import torch #torch is used in fastai backend\n",
        "from transformers import LongformerModel, LongformerTokenizer #Longformer model and tokenizer\n",
        "from fastai.text import * #fastai for creating databung\n",
        "from fastai.metrics import * #metrics to calculate accuracy\n",
        "import torch.nn as nn #create a custom model for sequence classification task\n",
        "# Garbage Collector\n",
        "import gc \n",
        "from datetime import date\n",
        "# gensim to remove stopwords\n",
        "from gensim.parsing.preprocessing import STOPWORDS \n",
        "# regex\n",
        "import re\n",
        "# to display image\n",
        "from IPython.display import Image"
      ],
      "execution_count": null,
      "outputs": []
    },
    {
      "cell_type": "markdown",
      "metadata": {
        "id": "_9Na-uHEahN8"
      },
      "source": [
        "## 2. Transformers and Longformer\n",
        "\n",
        "The success of Transformers is partly due to the self-attention. Since Transformers was presented, self-attention, which is a special attention mechanism, has been widely successful. Self attention allows model to look at each token in relation to other token within the same sequence. \n",
        "\n",
        "Longformer has an attention mechanism that grows linearly along with the sequence length, which is suitable for long documents. The new method applied in longformer is a sliding window of size $w$ for each token to \"pay attention\" to a portion of all other tokens - those from local attention that bring the most value. The second modification is the dilated sliding widow, which means that $w$ is separated by many empty spaces. These modifications help longformer perform better in long documents. The Scholar Document dataset has abstracts with lengths longer than the maximum length RoBERTA can handle (Maximum length is 384 in RoBERTa while maximum length of abstracts is 491). The illustration of attention of Longformer below is adopted from Longformer: The Long-Document Transformer.  "
      ]
    },
    {
      "cell_type": "code",
      "metadata": {
        "id": "g74P8ylnnTio",
        "colab": {
          "base_uri": "https://localhost:8080/",
          "height": 178
        },
        "outputId": "cdffae90-1a10-4f24-fa8d-0699a4bbdeab"
      },
      "source": [
        "Image('/content/drive/My Drive/group9_ass2_impl/longformerattention.png', width=700)"
      ],
      "execution_count": null,
      "outputs": [
        {
          "output_type": "execute_result",
          "data": {
            "image/png": "[encoded data removed]",
            "text/plain": [
              "<IPython.core.display.Image object>"
            ]
          },
          "metadata": {
            "tags": [],
            "image/png": {
              "width": 700
            }
          },
          "execution_count": 6
        }
      ]
    },
    {
      "cell_type": "markdown",
      "metadata": {
        "id": "jjv53KOjnkqx"
      },
      "source": [
        "Longformer has SOTA performance and consistently outperformed RoBERTa in sequence classification, which is the reason why it was chosen for experimentation with this dataset. The Longformer model is still in development mode from the Huggingface library. "
      ]
    },
    {
      "cell_type": "markdown",
      "metadata": {
        "id": "JK9eAciGqqEC"
      },
      "source": [
        "# 3. Parameters Setting"
      ]
    },
    {
      "cell_type": "code",
      "metadata": {
        "id": "JL4FJAGJqV0j"
      },
      "source": [
        "# Config class stores value of hyperparameters and folder destinations for training\n",
        "class Config(dict):\n",
        "    def __init__(self, **kwargs):\n",
        "        super().__init__(**kwargs)\n",
        "        for k, v in kwargs.items():\n",
        "            setattr(self, k, v)\n",
        "\n",
        "    def set(self, key, val):\n",
        "        self[key] = val\n",
        "        setattr(self, key, val)\n",
        "\n",
        "'''\n",
        "file_path: path of files eg.\"FIT5149/\"\n",
        "date: today inform of YYYYMMDD\n",
        "seed: random seed value\n",
        "max_lr: maximum learning rate\n",
        "epochs: number of epochs\n",
        "bs: batch size, eg: 4, 8, 16 (best is 4 with longformer, >16 cause CUDA error)\n",
        "max_seq_len: the longest possible length, 491 for this dataset\n",
        "num_labels: number of categories of documents, 100 for this datasets\n",
        "hidden_dropout_prob: dropout percentage of neural networks (0.05, 0.10)\n",
        "hidden_size: 1024 for longformer-large and 768 for longformer-base\n",
        "valida_pct: validation percentage\n",
        "start_tok: token defining the beginning of a sentence\n",
        "end_tok: token defining the ending of a sentence\n",
        "model_path: the folder destination\n",
        "pred_path: destination for prediction\n",
        "train_file_path: destination to trainning dataset\n",
        "test_file_path: destination to testing dataset\n",
        "text_column_name: name of the feature columns, e.g: 'abstract'\n",
        "target_column_name: name of the label columns, e.g: 'label'\n",
        "'''\n",
        "config = Config(\n",
        "    # change to your own path\n",
        "    file_path = \"/content/drive/My Drive/group9_ass2_impl\", \n",
        "    date = date.today().strftime('%Y%m%d'),\n",
        "    seed=2020,  \n",
        "    longformer_model_name='allenai/longformer-large-4096',\n",
        "    max_lr=1e-5,\n",
        "    epochs=3, #2 hour for one epoch\n",
        "    bs=4, # larger than 16 can cause CUDA or OOM problems\n",
        "    max_seq_len=491, # the max length of abstract is 491\n",
        "    num_labels=100, # number of labels is 100\n",
        "    hidden_dropout_prob=.05, #best configuration is 0.05\n",
        "    hidden_size=1024, # if base model is use, hidden_size should 768\n",
        "    valid_pct=0.20, #20 percent of dataset used for validation\n",
        "    start_tok=\"<s>\",\n",
        "    end_tok=\"</s>\",\n",
        "    text_column_name= 'abstract',\n",
        "    target_column_name= 'label'\n",
        ") \n",
        "# define link to model\n",
        "config.model_path = f'Epoch_{config.epochs}_len_{config.max_seq_len}_{config.date}.pkl'\n",
        "# define link to prediction\n",
        "config.pred_path = f'{config.longformer_model_name}_Epoch_{config.epochs}_len_{config.max_seq_len}_{config.date}.csv'\n",
        "# define link to training dataset\n",
        "config.train_file_path=f'{config.file_path}/train_data_labels.csv'\n",
        "# define link to testing dataset\n",
        "config.test_file_path=f'{config.file_path}/test_data.csv' "
      ],
      "execution_count": null,
      "outputs": []
    },
    {
      "cell_type": "markdown",
      "metadata": {
        "id": "YcLJ8iSlv88U"
      },
      "source": [
        "# 4. Customize LongformerTokenizer "
      ]
    },
    {
      "cell_type": "markdown",
      "metadata": {
        "id": "EWEUgVgDUiY_"
      },
      "source": [
        "In this section we will utilize BaseTokenizer from FastAi with some modifications for LongformerTokenizer to work"
      ]
    },
    {
      "cell_type": "code",
      "metadata": {
        "id": "6U5ozD5ngu7C"
      },
      "source": [
        "class FastAiLongformerTokenizer(BaseTokenizer):\n",
        "    \"\"\"Wrapper around longformerTokenizer to be compatible with fastai\"\"\"\n",
        "    def __init__(self, tokenizer: LongformerTokenizer, max_seq_len: int=128, **kwargs): \n",
        "        self._pretrained_tokenizer = tokenizer # tokenizer is LongformerTokenizer\n",
        "        self.max_seq_len = max_seq_len #the longest length of a sentence, e.g 491\n",
        "    def __call__(self, *args, **kwargs): \n",
        "        return self \n",
        "    def tokenizer(self, t:str) -> List[str]: \n",
        "        \"\"\"Adds longformer bos and eos tokens and limits the maximum sequence length\"\"\" \n",
        "        # starting of the sequence is <s> and ending is </s>\n",
        "        return [config.start_tok] + self._pretrained_tokenizer.tokenize(t)[:self.max_seq_len - 2] + [config.end_tok]\n",
        "\n",
        "# create fastai tokenizer for longformer\n",
        "longformer_tok = LongformerTokenizer.from_pretrained('allenai/longformer-base-4096')\n",
        "# we will adopt tokenizer (BaseTokenizer) from fastai\n",
        "fastai_tokenizer = Tokenizer(tok_func=FastAiLongformerTokenizer(longformer_tok, max_seq_len=config.max_seq_len), \n",
        "                             pre_rules=[], post_rules=[])"
      ],
      "execution_count": null,
      "outputs": []
    },
    {
      "cell_type": "code",
      "metadata": {
        "id": "dAyN924TtsIo"
      },
      "source": [
        "# create fastai vocabulary for Longformer Model\n",
        "path = Path()\n",
        "longformer_tok.save_vocabulary(path)\n",
        "# load vocab to dictionary\n",
        "with open('vocab.json', 'r') as f:\n",
        "    longformer_vocab_dict = json.load(f)\n",
        "# fastai longformer vocabulary is built on list of vocab dictionary    \n",
        "fastai_longformer_vocab = Vocab(list(longformer_vocab_dict.keys()))\n",
        "\n",
        "# Setting up pre-processors\n",
        "class LongformerTokenizeProcessor(TokenizeProcessor):\n",
        "    def __init__(self, tokenizer):\n",
        "         super().__init__(tokenizer=tokenizer, include_bos=False, include_eos=False)\n",
        "\n",
        "class LongformerNumericalizeProcessor(NumericalizeProcessor):\n",
        "    def __init__(self, *args, **kwargs):\n",
        "        super().__init__(*args, vocab=fastai_longformer_vocab, **kwargs)\n",
        "\n",
        "\n",
        "def get_longformer_processor(tokenizer:Tokenizer=None, vocab:Vocab=None):\n",
        "    \"\"\"\n",
        "    Constructing preprocessors for Longformer. The start of sentence token (sos)\n",
        "    and the end of sentence token will be removed because these two were set at\n",
        "    the beggining of the notebook. A custom vocabulary is used to match with the\n",
        "    orginal longformer model. \n",
        "    \"\"\"\n",
        "    return [LongformerTokenizeProcessor(tokenizer=tokenizer), NumericalizeProcessor(vocab=vocab)]"
      ],
      "execution_count": null,
      "outputs": []
    },
    {
      "cell_type": "markdown",
      "metadata": {
        "id": "KxCanWf3wG5V"
      },
      "source": [
        "# 5. Data Preparation"
      ]
    },
    {
      "cell_type": "code",
      "metadata": {
        "id": "kwC55FBlwFTJ"
      },
      "source": [
        "# Creating a longformer specific DataBunch class. In side Databunch contains \n",
        "# training and validation data. We adopted this approach from Fastai1v to quickly \n",
        "# train data with learner. The class longformerDatabunch is inherited from Text\n",
        "# DataBunch. \n",
        "class LongformerDataBunch(TextDataBunch):\n",
        "    \"Create a `TextDataBunch` suitable for training longformer\"\n",
        "    @classmethod\n",
        "    def create(cls, train_ds, valid_ds, test_ds=None, path:PathOrStr='.', bs:int=64, val_bs:int=None, pad_idx=1,\n",
        "               pad_first=True, device:torch.device=None, no_check:bool=False, backwards:bool=False, \n",
        "               dl_tfms:Optional[Collection[Callable]]=None, **dl_kwargs) -> DataBunch:\n",
        "        \"Function that transform the `datasets` in a `DataBunch` for classification. Passes `**dl_kwargs` on to `DataLoader()`\"\n",
        "        datasets = cls._init_ds(train_ds, valid_ds, test_ds)\n",
        "        val_bs = ifnone(val_bs, bs)\n",
        "        collate_fn = partial(pad_collate, pad_idx=pad_idx, pad_first=pad_first, backwards=backwards)\n",
        "        train_sampler = SortishSampler(datasets[0].x, key=lambda t: len(datasets[0][t][0].data), bs=bs)\n",
        "        train_dl = DataLoader(datasets[0], batch_size=bs, sampler=train_sampler, drop_last=True, **dl_kwargs)\n",
        "        dataloaders = [train_dl]\n",
        "        for ds in datasets[1:]:\n",
        "            lengths = [len(t) for t in ds.x.items]\n",
        "            sampler = SortSampler(ds.x, key=lengths.__getitem__)\n",
        "            dataloaders.append(DataLoader(ds, batch_size=val_bs, sampler=sampler, **dl_kwargs))\n",
        "        return cls(*dataloaders, path=path, device=device, dl_tfms=dl_tfms, collate_fn=collate_fn, no_check=no_check)\n",
        "\n",
        "class LongformerTextList(TextList):\n",
        "    _bunch = LongformerDataBunch\n",
        "    _label_cls = TextList"
      ],
      "execution_count": null,
      "outputs": []
    },
    {
      "cell_type": "markdown",
      "metadata": {
        "id": "ndhuHfICXDXd"
      },
      "source": [
        "We will drop duplicated abstract that has many different labels because these data points will affect the learning of model negatively. We only keep the datapoint with only one label for training purpose."
      ]
    },
    {
      "cell_type": "code",
      "metadata": {
        "id": "FJnBtSsUOXLG"
      },
      "source": [
        "# load train dataset\n",
        "train_df = pd.read_csv(config.train_file_path)\n",
        "# drop duplicated abstract, \n",
        "train_df = train_df.drop_duplicates(subset=['abstract'], keep=False)\n",
        "# load test dataset\n",
        "test_df = pd.read_csv(config.test_file_path)\n",
        "#setting feature and label columns\n",
        "feat_cols = config.text_column_name\n",
        "label_cols = config.target_column_name"
      ],
      "execution_count": null,
      "outputs": []
    },
    {
      "cell_type": "markdown",
      "metadata": {
        "id": "1gnNjhGSXgGf"
      },
      "source": [
        "After dropping 9892 duplicated datapoints, we will augmented training data by the same kind of data from Kaggle website [8]. However, we only get the data that has the labels similar to the labels in the training set. The data processing is done with this dataset so that only 'abstract' and 'labels' columns are kept. The processed dataset is in csv file from_arxiv.csv."
      ]
    },
    {
      "cell_type": "code",
      "metadata": {
        "id": "Mgrb7V4T1bm-"
      },
      "source": [
        "# Create a checklist for training labels to makesure that only labels in training\n",
        "# dataset presented\n",
        "check_list = list(train_df['label'].unique())\n",
        "# load data from additional arxiv\n",
        "data_added = pd.read_csv(f'{config.file_path}/from_arxiv.csv')\n",
        "# drop duplicated data\n",
        "data_added = data_added.drop_duplicates(subset=['abstract'], keep=False)\n",
        "# filter only labels that contained in checklist or training data labels\n",
        "data_added = data_added[data_added['label'].isin(check_list)]\n",
        "# setting train_id for data_added \n",
        "data_added['train_id'] = data_added.index\n",
        "# concatenate data_added to train_df for training\n",
        "train_df = pd.concat([data_added[:4000],train_df])"
      ],
      "execution_count": null,
      "outputs": []
    },
    {
      "cell_type": "markdown",
      "metadata": {
        "id": "IgaHKNBWZa0C"
      },
      "source": [
        "## Preprocessing Data\n",
        "\n",
        "In this step, we will remove stopwords and all the special characters except coma and period for attention mechanism."
      ]
    },
    {
      "cell_type": "code",
      "metadata": {
        "id": "5mTSCiYToC3d"
      },
      "source": [
        "def pre_processing(df):\n",
        "    \n",
        "    # split into single token\n",
        "    df['tokens'] = df['abstract'].apply(lambda x : x.split(' '))\n",
        "    \n",
        "    # remove stopwords\n",
        "    df['tokens'] = df['tokens'].apply(lambda x : [i for i in x if (i not in STOPWORDS)])\n",
        "    \n",
        "    # merge back into text\n",
        "    df['abstract'] = df['tokens'].apply(lambda x: ' '.join(x))\n",
        "\n",
        "    # removing special characters, except coma and period. \n",
        "    df['abstract'] = df['abstract'].apply(lambda x: re.sub(r\"[^a-zA-Z0-9\\.\\,]+\", ' ', x))\n",
        "    \n",
        "    return(df)\n",
        "# process training data\n",
        "train_df = pre_processing(train_df)\n",
        "# process testing data\n",
        "test_df = pre_processing(test_df)"
      ],
      "execution_count": null,
      "outputs": []
    },
    {
      "cell_type": "markdown",
      "metadata": {
        "id": "4R3NXYKOalWV"
      },
      "source": [
        "In this step we create databunch. The below code will take around a few minutes to finish."
      ]
    },
    {
      "cell_type": "code",
      "metadata": {
        "id": "MpI-1-LsoC3h",
        "colab": {
          "base_uri": "https://localhost:8080/",
          "height": 35
        },
        "outputId": "0ebc08f3-910b-453d-9d0b-f4cd10de994f"
      },
      "source": [
        "# loading the tokenizer and vocab processors\n",
        "processor = get_longformer_processor(\n",
        "    tokenizer=fastai_tokenizer, vocab=fastai_longformer_vocab)\n",
        "\n",
        "'''\n",
        "Creating databunch\n",
        "from_df: get training data\n",
        "split_by_rand_pct: randomly splitting training data into train and validation data\n",
        "label_from_df: labels from training set\n",
        "add_test: process test dataset\n",
        "databunch: pulling batches (with batch_size preset to train)\n",
        "'''\n",
        "data = LongformerTextList.from_df(train_df, \".\", cols=feat_cols, processor=processor) \\\n",
        "    .split_by_rand_pct(valid_pct=config.valid_pct, seed=config.seed) \\\n",
        "    .label_from_df(cols=label_cols, label_cls=CategoryList) \\\n",
        "    .add_test(LongformerTextList.from_df(test_df, \".\", cols=feat_cols, processor=processor)) \\\n",
        "    .databunch(bs=config.bs, pad_first=False, pad_idx=0)\n",
        "\n",
        "# remove unnecessary dataframe, the train_df, test_df, and data_added are no longer\n",
        "# needed. \n",
        "del train_df  \n",
        "del test_df \n",
        "del data_added\n",
        "gc.collect()  # clean the memory"
      ],
      "execution_count": null,
      "outputs": [
        {
          "output_type": "display_data",
          "data": {
            "text/html": [
              ""
            ],
            "text/plain": [
              "<IPython.core.display.HTML object>"
            ]
          },
          "metadata": {
            "tags": []
          }
        },
        {
          "output_type": "display_data",
          "data": {
            "text/html": [
              ""
            ],
            "text/plain": [
              "<IPython.core.display.HTML object>"
            ]
          },
          "metadata": {
            "tags": []
          }
        },
        {
          "output_type": "display_data",
          "data": {
            "text/html": [
              ""
            ],
            "text/plain": [
              "<IPython.core.display.HTML object>"
            ]
          },
          "metadata": {
            "tags": []
          }
        },
        {
          "output_type": "execute_result",
          "data": {
            "text/plain": [
              "0"
            ]
          },
          "metadata": {
            "tags": []
          },
          "execution_count": 14
        }
      ]
    },
    {
      "cell_type": "markdown",
      "metadata": {
        "id": "HvQlw-VXyVrD"
      },
      "source": [
        "# 6. Customise Longformer Model"
      ]
    },
    {
      "cell_type": "markdown",
      "metadata": {
        "id": "To2PwRH3ctaW"
      },
      "source": [
        "We customise longformer model below. The size of longformer-large-4096 model is around 1.75 Gb, which will take around few minutes to load."
      ]
    },
    {
      "cell_type": "code",
      "metadata": {
        "id": "N4saOz_AwSpQ",
        "colab": {
          "base_uri": "https://localhost:8080/",
          "height": 117,
          "referenced_widgets": [
            "4a18d28e32bb4630b719d92f1177b11e",
            "bcab7d236a71478b933a30ba4cf531e7",
            "86727f3c31fc40eab0ed1f2414ae0856",
            "d59c57fc1c6f4c97ad81351d38f68b05",
            "a4f08c3662844f5586796465d743d160",
            "45f164357f9b44c58e37e7c2eb834818",
            "09d1eddfaf1a46d0983d91bdb9a425ee",
            "f0eb887ee3c24ca8bd5cf9de9ab20d09",
            "56bae4d95c8943378f9fcb4df11039b4",
            "34cd6ad6c7cb4651a03509c3f39a0a9c",
            "7acb0445847f42bdaf1270925839c21f",
            "d95327a456f84cc3a8f81180d23916fc",
            "2a18a0f2a4aa42bb97193ac01a6f77cf",
            "bf9e0c232f1f48e081563f5212989942",
            "4c79c8c9b02b4748ad5845a62b1f0e6e",
            "40197a6c3e60477eb68303f43ad9b4d2"
          ]
        },
        "outputId": "bceb4966-f124-43be-b5c8-7d1ef2b6b06f"
      },
      "source": [
        "# defining Longformer architecture\n",
        "class CustomLongformerModel(nn.Module):\n",
        "    def __init__(self, num_labels=config.num_labels):\n",
        "        super(CustomLongformerModel, self).__init__()\n",
        "        self.num_labels = num_labels  # get number of labels\n",
        "        self.longformer = LongformerModel.from_pretrained('allenai/longformer-large-4096', return_dict=True)\n",
        "        self.dropout = nn.Dropout(config.hidden_dropout_prob)\n",
        "        self.classifier = nn.Linear(config.hidden_size, num_labels)\n",
        "\n",
        "    def forward(self, input_ids, token_type_ids=None, attention_mask=None, labels=None):\n",
        "        outputs = self.longformer(input_ids, token_type_ids, attention_mask)\n",
        "        pooled_output = outputs.pooler_output\n",
        "        # get logits value for classifier\n",
        "        logits = self.classifier(pooled_output) \n",
        "        return logits\n",
        "# set the model\n",
        "longformer_model = CustomLongformerModel()\n",
        "# define learning with model and metrics\n",
        "learn = Learner(data, longformer_model, metrics=[accuracy]) #  use acc as evaluation metrics\n",
        "# to_fp16() to lower the bandwith, leaving some more memory to boost training\n",
        "# time. \n",
        "learn = learn.to_fp16()  "
      ],
      "execution_count": null,
      "outputs": [
        {
          "output_type": "display_data",
          "data": {
            "application/vnd.jupyter.widget-view+json": {
              "model_id": "4a18d28e32bb4630b719d92f1177b11e",
              "version_minor": 0,
              "version_major": 2
            },
            "text/plain": [
              "HBox(children=(FloatProgress(value=0.0, description='Downloading', max=803.0, style=ProgressStyle(description_…"
            ]
          },
          "metadata": {
            "tags": []
          }
        },
        {
          "output_type": "stream",
          "text": [
            "\n"
          ],
          "name": "stdout"
        },
        {
          "output_type": "display_data",
          "data": {
            "application/vnd.jupyter.widget-view+json": {
              "model_id": "56bae4d95c8943378f9fcb4df11039b4",
              "version_minor": 0,
              "version_major": 2
            },
            "text/plain": [
              "HBox(children=(FloatProgress(value=0.0, description='Downloading', max=1742910431.0, style=ProgressStyle(descr…"
            ]
          },
          "metadata": {
            "tags": []
          }
        },
        {
          "output_type": "stream",
          "text": [
            "\n"
          ],
          "name": "stdout"
        }
      ]
    },
    {
      "cell_type": "markdown",
      "metadata": {
        "id": "UzQbhHJNc757"
      },
      "source": [
        "Below is the code for loading pretrained model. Please be aware that if the below cell is run, the next three cell should not be run, otherwise the whole process will be trained again. "
      ]
    },
    {
      "cell_type": "code",
      "metadata": {
        "id": "GSAWA5UaOXLZ",
        "colab": {
          "base_uri": "https://localhost:8080/",
          "height": 292
        },
        "outputId": "cddfd7f1-834d-4557-e2a5-8b070b2f6e84"
      },
      "source": [
        "# This is to load pretrained pickle model file, comment and replace the path (if neccessary)\n",
        "# to go to correct model file. Please be aware this cell is run,\n",
        "# GO STRAIGHT to section 7 for prediction WITHOUT running the next THREE cells. \n",
        "# Otherwise the model will take around 9 hours to train from the beginning. \n",
        "learn = load_learner(config.file_path,'best_model.pkl')"
      ],
      "execution_count": null,
      "outputs": [
        {
          "output_type": "stream",
          "text": [
            "/usr/local/lib/python3.6/dist-packages/torch/serialization.py:658: SourceChangeWarning: source code of class 'torch.nn.modules.loss.CrossEntropyLoss' has changed. you can retrieve the original source code by accessing the object's source attribute or set `torch.nn.Module.dump_patches = True` and use the patch tool to revert the changes.\n",
            "  warnings.warn(msg, SourceChangeWarning)\n",
            "/usr/local/lib/python3.6/dist-packages/torch/serialization.py:658: SourceChangeWarning: source code of class 'torch.nn.modules.sparse.Embedding' has changed. you can retrieve the original source code by accessing the object's source attribute or set `torch.nn.Module.dump_patches = True` and use the patch tool to revert the changes.\n",
            "  warnings.warn(msg, SourceChangeWarning)\n",
            "/usr/local/lib/python3.6/dist-packages/torch/serialization.py:658: SourceChangeWarning: source code of class 'torch.nn.modules.normalization.LayerNorm' has changed. you can retrieve the original source code by accessing the object's source attribute or set `torch.nn.Module.dump_patches = True` and use the patch tool to revert the changes.\n",
            "  warnings.warn(msg, SourceChangeWarning)\n",
            "/usr/local/lib/python3.6/dist-packages/torch/serialization.py:658: SourceChangeWarning: source code of class 'torch.nn.modules.dropout.Dropout' has changed. you can retrieve the original source code by accessing the object's source attribute or set `torch.nn.Module.dump_patches = True` and use the patch tool to revert the changes.\n",
            "  warnings.warn(msg, SourceChangeWarning)\n",
            "/usr/local/lib/python3.6/dist-packages/torch/serialization.py:658: SourceChangeWarning: source code of class 'torch.nn.modules.container.ModuleList' has changed. you can retrieve the original source code by accessing the object's source attribute or set `torch.nn.Module.dump_patches = True` and use the patch tool to revert the changes.\n",
            "  warnings.warn(msg, SourceChangeWarning)\n",
            "/usr/local/lib/python3.6/dist-packages/torch/serialization.py:658: SourceChangeWarning: source code of class 'torch.nn.modules.linear.Linear' has changed. you can retrieve the original source code by accessing the object's source attribute or set `torch.nn.Module.dump_patches = True` and use the patch tool to revert the changes.\n",
            "  warnings.warn(msg, SourceChangeWarning)\n",
            "/usr/local/lib/python3.6/dist-packages/torch/serialization.py:658: SourceChangeWarning: source code of class 'torch.nn.modules.activation.Tanh' has changed. you can retrieve the original source code by accessing the object's source attribute or set `torch.nn.Module.dump_patches = True` and use the patch tool to revert the changes.\n",
            "  warnings.warn(msg, SourceChangeWarning)\n"
          ],
          "name": "stderr"
        },
        {
          "output_type": "display_data",
          "data": {
            "text/html": [
              ""
            ],
            "text/plain": [
              "<IPython.core.display.HTML object>"
            ]
          },
          "metadata": {
            "tags": []
          }
        },
        {
          "output_type": "display_data",
          "data": {
            "text/html": [
              ""
            ],
            "text/plain": [
              "<IPython.core.display.HTML object>"
            ]
          },
          "metadata": {
            "tags": []
          }
        }
      ]
    },
    {
      "cell_type": "code",
      "metadata": {
        "id": "XLpcoSn9i6C1",
        "colab": {
          "base_uri": "https://localhost:8080/",
          "height": 78
        },
        "outputId": "9cde9157-918f-4ff7-f60d-f33a0a99f298"
      },
      "source": [
        "# DO NOT RUN THIS CELL IF MODEL IS LOADED FROM DRIVE\n",
        "# Clean memory before training\n",
        "gc.collect() \n",
        "# signal model to set training mode because model was working in inference mode\n",
        "# by default\n",
        "learn.model.longformer.train() \n",
        "# first epoch is enough before finding learning rate\n",
        "learn.fit_one_cycle(1, max_lr=config.max_lr) \n",
        "# uncomment below to store model, otherwise this can be done after training finish"
      ],
      "execution_count": null,
      "outputs": [
        {
          "output_type": "display_data",
          "data": {
            "text/html": [
              "<table border=\"1\" class=\"dataframe\">\n",
              "  <thead>\n",
              "    <tr style=\"text-align: left;\">\n",
              "      <th>epoch</th>\n",
              "      <th>train_loss</th>\n",
              "      <th>valid_loss</th>\n",
              "      <th>accuracy</th>\n",
              "      <th>time</th>\n",
              "    </tr>\n",
              "  </thead>\n",
              "  <tbody>\n",
              "    <tr>\n",
              "      <td>0</td>\n",
              "      <td>1.305303</td>\n",
              "      <td>1.400678</td>\n",
              "      <td>0.641086</td>\n",
              "      <td>1:28:49</td>\n",
              "    </tr>\n",
              "  </tbody>\n",
              "</table>"
            ],
            "text/plain": [
              "<IPython.core.display.HTML object>"
            ]
          },
          "metadata": {
            "tags": []
          }
        }
      ]
    },
    {
      "cell_type": "code",
      "metadata": {
        "id": "lhWUYjNWfrAc",
        "colab": {
          "base_uri": "https://localhost:8080/",
          "height": 138
        },
        "outputId": "ffae2551-4f5b-421e-b253-b4a9885d1afd"
      },
      "source": [
        "# DO NOT RUN THIS CELL IF MODEL IS LOADED FROM DRIVE\n",
        "# best learning rate found is 1e-5 after training. Detailed in the report\n",
        "learn.fit_one_cycle(config.epochs, max_lr=config.max_lr) # train on one epoch"
      ],
      "execution_count": null,
      "outputs": [
        {
          "output_type": "display_data",
          "data": {
            "text/html": [
              "<table border=\"1\" class=\"dataframe\">\n",
              "  <thead>\n",
              "    <tr style=\"text-align: left;\">\n",
              "      <th>epoch</th>\n",
              "      <th>train_loss</th>\n",
              "      <th>valid_loss</th>\n",
              "      <th>accuracy</th>\n",
              "      <th>time</th>\n",
              "    </tr>\n",
              "  </thead>\n",
              "  <tbody>\n",
              "    <tr>\n",
              "      <td>0</td>\n",
              "      <td>1.265698</td>\n",
              "      <td>1.375096</td>\n",
              "      <td>0.639448</td>\n",
              "      <td>1:28:52</td>\n",
              "    </tr>\n",
              "    <tr>\n",
              "      <td>1</td>\n",
              "      <td>0.923056</td>\n",
              "      <td>1.191162</td>\n",
              "      <td>0.690922</td>\n",
              "      <td>1:28:55</td>\n",
              "    </tr>\n",
              "    <tr>\n",
              "      <td>2</td>\n",
              "      <td>0.668595</td>\n",
              "      <td>1.150556</td>\n",
              "      <td>0.702621</td>\n",
              "      <td>1:28:54</td>\n",
              "    </tr>\n",
              "  </tbody>\n",
              "</table>"
            ],
            "text/plain": [
              "<IPython.core.display.HTML object>"
            ]
          },
          "metadata": {
            "tags": []
          }
        }
      ]
    },
    {
      "cell_type": "markdown",
      "metadata": {
        "id": "oH8HCRqcytpb"
      },
      "source": [
        "# 7. Prediction"
      ]
    },
    {
      "cell_type": "markdown",
      "metadata": {
        "id": "Vo9H6Pe5VeL3"
      },
      "source": [
        "Do not run the cell below if model is loaded from drive. Please run the next cell to predict results"
      ]
    },
    {
      "cell_type": "code",
      "metadata": {
        "id": "mx1jSHvBmhOD"
      },
      "source": [
        "# DO NOT RUN THIS CELL IF MODEL IS LOADED FROM DRIVE\n",
        "# export model, name now best_model_rerun do separate from\n",
        "# previous run.\n",
        "learn.export(f'{config.file_path}/best_model_rerun.pkl') "
      ],
      "execution_count": null,
      "outputs": []
    },
    {
      "cell_type": "markdown",
      "metadata": {
        "id": "FMd5GtaARzdA"
      },
      "source": [
        "Predicting time will take from 20 minutes to 30 minutes. "
      ]
    },
    {
      "cell_type": "code",
      "metadata": {
        "id": "8sqC_tzpyvLq",
        "colab": {
          "base_uri": "https://localhost:8080/"
        },
        "outputId": "7beb8d9f-0b10-4acd-ad2e-dab29c4e595f"
      },
      "source": [
        "# read test data again\n",
        "sub = pd.read_csv(config.test_file_path)\n",
        "# make prediction\n",
        "for index, loc in sub.iterrows():\n",
        "    sub.at[index,'label'] = learn.predict(sub.at[index,'abstract'])[0]\n",
        "# dropping column abstract\n",
        "sub = sub.drop(columns=['abstract'])\n",
        "# set index \n",
        "sub = sub.set_index(['test_id'])\n",
        "# produce csv file for submission\n",
        "sub.to_csv(f'{config.file_path}/pred_labels.csv')"
      ],
      "execution_count": null,
      "outputs": [
        {
          "output_type": "stream",
          "text": [
            "/usr/local/lib/python3.6/dist-packages/fastai/text/data.py:339: UserWarning: This overload of nonzero is deprecated:\n",
            "\tnonzero()\n",
            "Consider using one of the following signatures instead:\n",
            "\tnonzero(*, bool as_tuple) (Triggered internally at  /pytorch/torch/csrc/utils/python_arg_parser.cpp:882.)\n",
            "  idx_min = (t != self.pad_idx).nonzero().min()\n"
          ],
          "name": "stderr"
        }
      ]
    },
    {
      "cell_type": "markdown",
      "metadata": {
        "id": "1DntwtNsgYtP"
      },
      "source": [
        "# 8. Conclusion\n",
        "\n",
        "Longformer has a much better performance in comparsion with other classical machine learning models tested with this dataset. Cleaning stopwords, special characters, duplicated data, and augmented data from arxiv website did help improve performance of the models. Beside, rigorously tuning hyper parameters is not less important, which helps the performance of longformer to reach to the top of the Kaggle Challenge. The drawbacks of this model is the requirement of GPU and long training time. At least 8.5 hours is needed as running time for this notebook. Running time limitation on Colab is also a factor that prevents us from trialling new ideas and tuning experiments. Overall, this is a very challenging dataset that provides extremely helpful experience in terms of data processing, features selection, model selection, and hyperparameters tuning. "
      ]
    },
    {
      "cell_type": "markdown",
      "metadata": {
        "id": "-oV7k9fci_Yp"
      },
      "source": [
        "# 9. References"
      ]
    },
    {
      "cell_type": "markdown",
      "metadata": {
        "id": "Zny_gyT6Tbed"
      },
      "source": [
        "[1] Longformer: The Long-Document Transformer https://arxiv.org/abs/2004.05150 \n",
        "\n",
        "[2] RoBERTa: A Robustly Optimized BERT Pretraining Approach https://arxiv.org/abs/1907.11692\n",
        "\n",
        "[3] https://huggingface.co/transformers/model_doc/longformer.html\n",
        "\n",
        "[4] https://huggingface.co/transformers/model_doc/roberta.html\n",
        "\n",
        "[5] https://fastai1.fast.ai/\n",
        "\n",
        "[6] https://pytorch.org/docs/stable/generated/torch.nn.Transformer.html\n",
        "\n",
        "[7] gensim https://pypi.org/project/gensim/\n",
        "\n",
        "[8] Link to additional arxiv data from Kaggle https://www.kaggle.com/Cornell-University/arxiv\n",
        "\n",
        "[9] Attention is all you need https://papers.nips.cc/paper/2017/file/3f5ee243547dee91fbd053c1c4a845aa-Paper.pdf\n",
        "\n",
        "[10] Illustrated Transformershttp://jalammar.github.io/illustrated-transformer/"
      ]
    }
  ]
}